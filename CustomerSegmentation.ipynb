{
 "cells": [
  {
   "cell_type": "code",
   "execution_count": 2,
   "metadata": {},
   "outputs": [],
   "source": [
    "import pandas as pd\n",
    "import numpy as np"
   ]
  },
  {
   "cell_type": "code",
   "execution_count": 3,
   "metadata": {},
   "outputs": [
    {
     "data": {
      "text/html": [
       "<div>\n",
       "<style scoped>\n",
       "    .dataframe tbody tr th:only-of-type {\n",
       "        vertical-align: middle;\n",
       "    }\n",
       "\n",
       "    .dataframe tbody tr th {\n",
       "        vertical-align: top;\n",
       "    }\n",
       "\n",
       "    .dataframe thead th {\n",
       "        text-align: right;\n",
       "    }\n",
       "</style>\n",
       "<table border=\"1\" class=\"dataframe\">\n",
       "  <thead>\n",
       "    <tr style=\"text-align: right;\">\n",
       "      <th></th>\n",
       "      <th>Unnamed: 0</th>\n",
       "      <th>user_id</th>\n",
       "      <th>tot_ord</th>\n",
       "      <th>tot_spent</th>\n",
       "      <th>avg_days_btwn_ord</th>\n",
       "      <th>avg_basket_size</th>\n",
       "      <th>most_freq_aisle</th>\n",
       "      <th>most_freq_timing</th>\n",
       "      <th>most_freq_dow</th>\n",
       "    </tr>\n",
       "  </thead>\n",
       "  <tbody>\n",
       "    <tr>\n",
       "      <th>0</th>\n",
       "      <td>1</td>\n",
       "      <td>1</td>\n",
       "      <td>11</td>\n",
       "      <td>286.85</td>\n",
       "      <td>19.200000</td>\n",
       "      <td>26.077273</td>\n",
       "      <td>soft drinks</td>\n",
       "      <td>morning</td>\n",
       "      <td>4</td>\n",
       "    </tr>\n",
       "    <tr>\n",
       "      <th>1</th>\n",
       "      <td>2</td>\n",
       "      <td>2</td>\n",
       "      <td>15</td>\n",
       "      <td>904.28</td>\n",
       "      <td>18.009390</td>\n",
       "      <td>60.285333</td>\n",
       "      <td>yogurt</td>\n",
       "      <td>morning</td>\n",
       "      <td>1</td>\n",
       "    </tr>\n",
       "    <tr>\n",
       "      <th>2</th>\n",
       "      <td>3</td>\n",
       "      <td>3</td>\n",
       "      <td>12</td>\n",
       "      <td>634.85</td>\n",
       "      <td>11.487179</td>\n",
       "      <td>52.904167</td>\n",
       "      <td>fresh fruits</td>\n",
       "      <td>evening</td>\n",
       "      <td>0</td>\n",
       "    </tr>\n",
       "    <tr>\n",
       "      <th>3</th>\n",
       "      <td>4</td>\n",
       "      <td>4</td>\n",
       "      <td>5</td>\n",
       "      <td>205.99</td>\n",
       "      <td>15.357143</td>\n",
       "      <td>41.198000</td>\n",
       "      <td>frozen meals</td>\n",
       "      <td>afternoon</td>\n",
       "      <td>4</td>\n",
       "    </tr>\n",
       "    <tr>\n",
       "      <th>4</th>\n",
       "      <td>5</td>\n",
       "      <td>5</td>\n",
       "      <td>5</td>\n",
       "      <td>218.55</td>\n",
       "      <td>12.314286</td>\n",
       "      <td>43.710000</td>\n",
       "      <td>packaged vegetables fruits</td>\n",
       "      <td>evening</td>\n",
       "      <td>0</td>\n",
       "    </tr>\n",
       "  </tbody>\n",
       "</table>\n",
       "</div>"
      ],
      "text/plain": [
       "   Unnamed: 0  user_id  tot_ord  tot_spent  avg_days_btwn_ord  \\\n",
       "0           1        1       11     286.85          19.200000   \n",
       "1           2        2       15     904.28          18.009390   \n",
       "2           3        3       12     634.85          11.487179   \n",
       "3           4        4        5     205.99          15.357143   \n",
       "4           5        5        5     218.55          12.314286   \n",
       "\n",
       "   avg_basket_size             most_freq_aisle most_freq_timing  most_freq_dow  \n",
       "0        26.077273                 soft drinks          morning              4  \n",
       "1        60.285333                      yogurt          morning              1  \n",
       "2        52.904167                fresh fruits          evening              0  \n",
       "3        41.198000                frozen meals        afternoon              4  \n",
       "4        43.710000  packaged vegetables fruits          evening              0  "
      ]
     },
     "execution_count": 3,
     "metadata": {},
     "output_type": "execute_result"
    }
   ],
   "source": [
    "# read data\n",
    "customers = pd.read_csv('data\\cust_features.csv')\n",
    "\n",
    "# examine the first few data records\n",
    "customers.head()"
   ]
  },
  {
   "cell_type": "code",
   "execution_count": 4,
   "metadata": {},
   "outputs": [
    {
     "name": "stdout",
     "output_type": "stream",
     "text": [
      "<class 'pandas.core.frame.DataFrame'>\n",
      "RangeIndex: 206209 entries, 0 to 206208\n",
      "Data columns (total 9 columns):\n",
      "Unnamed: 0           206209 non-null int64\n",
      "user_id              206209 non-null int64\n",
      "tot_ord              206209 non-null int64\n",
      "tot_spent            206209 non-null float64\n",
      "avg_days_btwn_ord    206209 non-null float64\n",
      "avg_basket_size      206209 non-null float64\n",
      "most_freq_aisle      206209 non-null object\n",
      "most_freq_timing     206209 non-null object\n",
      "most_freq_dow        206209 non-null int64\n",
      "dtypes: float64(3), int64(4), object(2)\n",
      "memory usage: 14.2+ MB\n"
     ]
    }
   ],
   "source": [
    "customers.info()"
   ]
  },
  {
   "cell_type": "code",
   "execution_count": 5,
   "metadata": {},
   "outputs": [
    {
     "data": {
      "text/plain": [
       "count    206209.000000\n",
       "mean         16.226658\n",
       "std          16.662238\n",
       "min           3.000000\n",
       "25%           6.000000\n",
       "50%          10.000000\n",
       "75%          20.000000\n",
       "max         100.000000\n",
       "Name: tot_ord, dtype: float64"
      ]
     },
     "execution_count": 5,
     "metadata": {},
     "output_type": "execute_result"
    }
   ],
   "source": [
    "customers['tot_ord'].describe()"
   ]
  },
  {
   "cell_type": "code",
   "execution_count": 6,
   "metadata": {},
   "outputs": [
    {
     "data": {
      "text/plain": [
       "count    206209.000000\n",
       "mean        912.052832\n",
       "std        1214.616155\n",
       "min           4.200000\n",
       "25%         230.240000\n",
       "50%         493.020000\n",
       "75%        1085.700000\n",
       "max       31723.670000\n",
       "Name: tot_spent, dtype: float64"
      ]
     },
     "execution_count": 6,
     "metadata": {},
     "output_type": "execute_result"
    }
   ],
   "source": [
    "customers['tot_spent'].describe()"
   ]
  },
  {
   "cell_type": "code",
   "execution_count": 7,
   "metadata": {},
   "outputs": [],
   "source": [
    "# create negative avg_days_btwn_ord\n",
    "customers['avgdaysbtwnord'] = customers['avg_days_btwn_ord'].apply(lambda x : -1 * x ) "
   ]
  },
  {
   "cell_type": "code",
   "execution_count": 8,
   "metadata": {},
   "outputs": [
    {
     "data": {
      "text/plain": [
       "count    206209.000000\n",
       "mean        -15.631327\n",
       "std           7.090661\n",
       "min         -30.000000\n",
       "25%         -20.916667\n",
       "50%         -15.000000\n",
       "75%          -9.809524\n",
       "max          -0.000000\n",
       "Name: avgdaysbtwnord, dtype: float64"
      ]
     },
     "execution_count": 8,
     "metadata": {},
     "output_type": "execute_result"
    }
   ],
   "source": [
    "customers['avgdaysbtwnord'].describe()"
   ]
  },
  {
   "cell_type": "code",
   "execution_count": 9,
   "metadata": {},
   "outputs": [
    {
     "data": {
      "text/plain": [
       "avgdaysbtwnord    206209\n",
       "tot_ord           206209\n",
       "tot_spent         206209\n",
       "dtype: int64"
      ]
     },
     "execution_count": 9,
     "metadata": {},
     "output_type": "execute_result"
    }
   ],
   "source": [
    "customers[['avgdaysbtwnord','tot_ord','tot_spent']].count()"
   ]
  },
  {
   "cell_type": "code",
   "execution_count": 10,
   "metadata": {},
   "outputs": [],
   "source": [
    "# segmentation\n",
    "#qcut - ensures same number of records in each bin\n",
    "customers['e'] = pd.qcut(customers['avgdaysbtwnord'], 3, ['1','2','3'])\n",
    "customers['m'] = pd.qcut(customers['tot_spent'], 5, ['1','2','3','4','5'], duplicates = 'drop')"
   ]
  },
  {
   "cell_type": "code",
   "execution_count": 11,
   "metadata": {},
   "outputs": [],
   "source": [
    "def f(x):\n",
    "    f = ''\n",
    "    if x <= 10:\n",
    "        f = '1'\n",
    "    elif 10 < x <= 20:\n",
    "        f = '2'\n",
    "    else:\n",
    "        f = '3'\n",
    "    return f"
   ]
  },
  {
   "cell_type": "code",
   "execution_count": 12,
   "metadata": {},
   "outputs": [],
   "source": [
    "customers['f'] = customers['tot_ord'].apply(lambda x: f(x))"
   ]
  },
  {
   "cell_type": "code",
   "execution_count": 13,
   "metadata": {},
   "outputs": [
    {
     "data": {
      "text/html": [
       "<div>\n",
       "<style scoped>\n",
       "    .dataframe tbody tr th:only-of-type {\n",
       "        vertical-align: middle;\n",
       "    }\n",
       "\n",
       "    .dataframe tbody tr th {\n",
       "        vertical-align: top;\n",
       "    }\n",
       "\n",
       "    .dataframe thead th {\n",
       "        text-align: right;\n",
       "    }\n",
       "</style>\n",
       "<table border=\"1\" class=\"dataframe\">\n",
       "  <thead>\n",
       "    <tr style=\"text-align: right;\">\n",
       "      <th></th>\n",
       "      <th>count</th>\n",
       "      <th>mean</th>\n",
       "      <th>std</th>\n",
       "      <th>min</th>\n",
       "      <th>25%</th>\n",
       "      <th>50%</th>\n",
       "      <th>75%</th>\n",
       "      <th>max</th>\n",
       "    </tr>\n",
       "    <tr>\n",
       "      <th>f</th>\n",
       "      <th></th>\n",
       "      <th></th>\n",
       "      <th></th>\n",
       "      <th></th>\n",
       "      <th></th>\n",
       "      <th></th>\n",
       "      <th></th>\n",
       "      <th></th>\n",
       "    </tr>\n",
       "  </thead>\n",
       "  <tbody>\n",
       "    <tr>\n",
       "      <th>1</th>\n",
       "      <td>107431.0</td>\n",
       "      <td>6.093502</td>\n",
       "      <td>2.089899</td>\n",
       "      <td>3.0</td>\n",
       "      <td>4.0</td>\n",
       "      <td>6.0</td>\n",
       "      <td>8.0</td>\n",
       "      <td>10.0</td>\n",
       "    </tr>\n",
       "    <tr>\n",
       "      <th>2</th>\n",
       "      <td>49098.0</td>\n",
       "      <td>14.693715</td>\n",
       "      <td>2.811193</td>\n",
       "      <td>11.0</td>\n",
       "      <td>12.0</td>\n",
       "      <td>14.0</td>\n",
       "      <td>17.0</td>\n",
       "      <td>20.0</td>\n",
       "    </tr>\n",
       "    <tr>\n",
       "      <th>3</th>\n",
       "      <td>49680.0</td>\n",
       "      <td>39.654187</td>\n",
       "      <td>19.023777</td>\n",
       "      <td>21.0</td>\n",
       "      <td>26.0</td>\n",
       "      <td>33.0</td>\n",
       "      <td>48.0</td>\n",
       "      <td>100.0</td>\n",
       "    </tr>\n",
       "  </tbody>\n",
       "</table>\n",
       "</div>"
      ],
      "text/plain": [
       "      count       mean        std   min   25%   50%   75%    max\n",
       "f                                                               \n",
       "1  107431.0   6.093502   2.089899   3.0   4.0   6.0   8.0   10.0\n",
       "2   49098.0  14.693715   2.811193  11.0  12.0  14.0  17.0   20.0\n",
       "3   49680.0  39.654187  19.023777  21.0  26.0  33.0  48.0  100.0"
      ]
     },
     "execution_count": 13,
     "metadata": {},
     "output_type": "execute_result"
    }
   ],
   "source": [
    "customers.groupby('f')['tot_ord'].describe()"
   ]
  },
  {
   "cell_type": "code",
   "execution_count": 14,
   "metadata": {},
   "outputs": [],
   "source": [
    "customers['CS1'] = customers[['e','f','m']].apply(lambda x: ''.join(x), axis=1)"
   ]
  },
  {
   "cell_type": "code",
   "execution_count": 15,
   "metadata": {},
   "outputs": [
    {
     "data": {
      "text/html": [
       "<div>\n",
       "<style scoped>\n",
       "    .dataframe tbody tr th:only-of-type {\n",
       "        vertical-align: middle;\n",
       "    }\n",
       "\n",
       "    .dataframe tbody tr th {\n",
       "        vertical-align: top;\n",
       "    }\n",
       "\n",
       "    .dataframe thead th {\n",
       "        text-align: right;\n",
       "    }\n",
       "</style>\n",
       "<table border=\"1\" class=\"dataframe\">\n",
       "  <thead>\n",
       "    <tr style=\"text-align: right;\">\n",
       "      <th></th>\n",
       "      <th>Unnamed: 0</th>\n",
       "      <th>user_id</th>\n",
       "      <th>tot_ord</th>\n",
       "      <th>tot_spent</th>\n",
       "      <th>avg_days_btwn_ord</th>\n",
       "      <th>avg_basket_size</th>\n",
       "      <th>most_freq_aisle</th>\n",
       "      <th>most_freq_timing</th>\n",
       "      <th>most_freq_dow</th>\n",
       "      <th>avgdaysbtwnord</th>\n",
       "      <th>e</th>\n",
       "      <th>m</th>\n",
       "      <th>f</th>\n",
       "      <th>CS1</th>\n",
       "    </tr>\n",
       "  </thead>\n",
       "  <tbody>\n",
       "    <tr>\n",
       "      <th>0</th>\n",
       "      <td>1</td>\n",
       "      <td>1</td>\n",
       "      <td>11</td>\n",
       "      <td>286.85</td>\n",
       "      <td>19.200000</td>\n",
       "      <td>26.077273</td>\n",
       "      <td>soft drinks</td>\n",
       "      <td>morning</td>\n",
       "      <td>4</td>\n",
       "      <td>-19.200000</td>\n",
       "      <td>1</td>\n",
       "      <td>2</td>\n",
       "      <td>2</td>\n",
       "      <td>122</td>\n",
       "    </tr>\n",
       "    <tr>\n",
       "      <th>1</th>\n",
       "      <td>2</td>\n",
       "      <td>2</td>\n",
       "      <td>15</td>\n",
       "      <td>904.28</td>\n",
       "      <td>18.009390</td>\n",
       "      <td>60.285333</td>\n",
       "      <td>yogurt</td>\n",
       "      <td>morning</td>\n",
       "      <td>1</td>\n",
       "      <td>-18.009390</td>\n",
       "      <td>2</td>\n",
       "      <td>4</td>\n",
       "      <td>2</td>\n",
       "      <td>224</td>\n",
       "    </tr>\n",
       "    <tr>\n",
       "      <th>2</th>\n",
       "      <td>3</td>\n",
       "      <td>3</td>\n",
       "      <td>12</td>\n",
       "      <td>634.85</td>\n",
       "      <td>11.487179</td>\n",
       "      <td>52.904167</td>\n",
       "      <td>fresh fruits</td>\n",
       "      <td>evening</td>\n",
       "      <td>0</td>\n",
       "      <td>-11.487179</td>\n",
       "      <td>3</td>\n",
       "      <td>3</td>\n",
       "      <td>2</td>\n",
       "      <td>323</td>\n",
       "    </tr>\n",
       "    <tr>\n",
       "      <th>3</th>\n",
       "      <td>4</td>\n",
       "      <td>4</td>\n",
       "      <td>5</td>\n",
       "      <td>205.99</td>\n",
       "      <td>15.357143</td>\n",
       "      <td>41.198000</td>\n",
       "      <td>frozen meals</td>\n",
       "      <td>afternoon</td>\n",
       "      <td>4</td>\n",
       "      <td>-15.357143</td>\n",
       "      <td>2</td>\n",
       "      <td>2</td>\n",
       "      <td>1</td>\n",
       "      <td>212</td>\n",
       "    </tr>\n",
       "    <tr>\n",
       "      <th>4</th>\n",
       "      <td>5</td>\n",
       "      <td>5</td>\n",
       "      <td>5</td>\n",
       "      <td>218.55</td>\n",
       "      <td>12.314286</td>\n",
       "      <td>43.710000</td>\n",
       "      <td>packaged vegetables fruits</td>\n",
       "      <td>evening</td>\n",
       "      <td>0</td>\n",
       "      <td>-12.314286</td>\n",
       "      <td>2</td>\n",
       "      <td>2</td>\n",
       "      <td>1</td>\n",
       "      <td>212</td>\n",
       "    </tr>\n",
       "  </tbody>\n",
       "</table>\n",
       "</div>"
      ],
      "text/plain": [
       "   Unnamed: 0  user_id  tot_ord  tot_spent  avg_days_btwn_ord  \\\n",
       "0           1        1       11     286.85          19.200000   \n",
       "1           2        2       15     904.28          18.009390   \n",
       "2           3        3       12     634.85          11.487179   \n",
       "3           4        4        5     205.99          15.357143   \n",
       "4           5        5        5     218.55          12.314286   \n",
       "\n",
       "   avg_basket_size             most_freq_aisle most_freq_timing  \\\n",
       "0        26.077273                 soft drinks          morning   \n",
       "1        60.285333                      yogurt          morning   \n",
       "2        52.904167                fresh fruits          evening   \n",
       "3        41.198000                frozen meals        afternoon   \n",
       "4        43.710000  packaged vegetables fruits          evening   \n",
       "\n",
       "   most_freq_dow  avgdaysbtwnord  e  m  f  CS1  \n",
       "0              4      -19.200000  1  2  2  122  \n",
       "1              1      -18.009390  2  4  2  224  \n",
       "2              0      -11.487179  3  3  2  323  \n",
       "3              4      -15.357143  2  2  1  212  \n",
       "4              0      -12.314286  2  2  1  212  "
      ]
     },
     "execution_count": 15,
     "metadata": {},
     "output_type": "execute_result"
    }
   ],
   "source": [
    "customers.head()"
   ]
  },
  {
   "cell_type": "code",
   "execution_count": 16,
   "metadata": {},
   "outputs": [],
   "source": [
    "customers.to_csv('efm.csv')"
   ]
  },
  {
   "cell_type": "code",
   "execution_count": 21,
   "metadata": {},
   "outputs": [
    {
     "data": {
      "text/html": [
       "<div>\n",
       "<style scoped>\n",
       "    .dataframe tbody tr th:only-of-type {\n",
       "        vertical-align: middle;\n",
       "    }\n",
       "\n",
       "    .dataframe tbody tr th {\n",
       "        vertical-align: top;\n",
       "    }\n",
       "\n",
       "    .dataframe thead th {\n",
       "        text-align: right;\n",
       "    }\n",
       "</style>\n",
       "<table border=\"1\" class=\"dataframe\">\n",
       "  <thead>\n",
       "    <tr style=\"text-align: right;\">\n",
       "      <th></th>\n",
       "      <th>count</th>\n",
       "      <th>mean</th>\n",
       "      <th>std</th>\n",
       "      <th>min</th>\n",
       "      <th>25%</th>\n",
       "      <th>50%</th>\n",
       "      <th>75%</th>\n",
       "      <th>max</th>\n",
       "    </tr>\n",
       "    <tr>\n",
       "      <th>e</th>\n",
       "      <th></th>\n",
       "      <th></th>\n",
       "      <th></th>\n",
       "      <th></th>\n",
       "      <th></th>\n",
       "      <th></th>\n",
       "      <th></th>\n",
       "      <th></th>\n",
       "    </tr>\n",
       "  </thead>\n",
       "  <tbody>\n",
       "    <tr>\n",
       "      <th>1</th>\n",
       "      <td>68741.0</td>\n",
       "      <td>-23.933434</td>\n",
       "      <td>3.483512</td>\n",
       "      <td>-30.000000</td>\n",
       "      <td>-26.666667</td>\n",
       "      <td>-23.387097</td>\n",
       "      <td>-20.915842</td>\n",
       "      <td>-18.777778</td>\n",
       "    </tr>\n",
       "    <tr>\n",
       "      <th>2</th>\n",
       "      <td>68732.0</td>\n",
       "      <td>-15.060907</td>\n",
       "      <td>2.083063</td>\n",
       "      <td>-18.777202</td>\n",
       "      <td>-16.843137</td>\n",
       "      <td>-15.000000</td>\n",
       "      <td>-13.259259</td>\n",
       "      <td>-11.522727</td>\n",
       "    </tr>\n",
       "    <tr>\n",
       "      <th>3</th>\n",
       "      <td>68736.0</td>\n",
       "      <td>-7.899003</td>\n",
       "      <td>2.305193</td>\n",
       "      <td>-11.522472</td>\n",
       "      <td>-9.809524</td>\n",
       "      <td>-8.091549</td>\n",
       "      <td>-6.331320</td>\n",
       "      <td>-0.000000</td>\n",
       "    </tr>\n",
       "  </tbody>\n",
       "</table>\n",
       "</div>"
      ],
      "text/plain": [
       "     count       mean       std        min        25%        50%        75%  \\\n",
       "e                                                                             \n",
       "1  68741.0 -23.933434  3.483512 -30.000000 -26.666667 -23.387097 -20.915842   \n",
       "2  68732.0 -15.060907  2.083063 -18.777202 -16.843137 -15.000000 -13.259259   \n",
       "3  68736.0  -7.899003  2.305193 -11.522472  -9.809524  -8.091549  -6.331320   \n",
       "\n",
       "         max  \n",
       "e             \n",
       "1 -18.777778  \n",
       "2 -11.522727  \n",
       "3  -0.000000  "
      ]
     },
     "execution_count": 21,
     "metadata": {},
     "output_type": "execute_result"
    }
   ],
   "source": [
    "customers.groupby('e')['avgdaysbtwnord'].describe()"
   ]
  },
  {
   "cell_type": "code",
   "execution_count": 22,
   "metadata": {},
   "outputs": [
    {
     "data": {
      "text/html": [
       "<div>\n",
       "<style scoped>\n",
       "    .dataframe tbody tr th:only-of-type {\n",
       "        vertical-align: middle;\n",
       "    }\n",
       "\n",
       "    .dataframe tbody tr th {\n",
       "        vertical-align: top;\n",
       "    }\n",
       "\n",
       "    .dataframe thead th {\n",
       "        text-align: right;\n",
       "    }\n",
       "</style>\n",
       "<table border=\"1\" class=\"dataframe\">\n",
       "  <thead>\n",
       "    <tr style=\"text-align: right;\">\n",
       "      <th></th>\n",
       "      <th>count</th>\n",
       "      <th>mean</th>\n",
       "      <th>std</th>\n",
       "      <th>min</th>\n",
       "      <th>25%</th>\n",
       "      <th>50%</th>\n",
       "      <th>75%</th>\n",
       "      <th>max</th>\n",
       "    </tr>\n",
       "    <tr>\n",
       "      <th>m</th>\n",
       "      <th></th>\n",
       "      <th></th>\n",
       "      <th></th>\n",
       "      <th></th>\n",
       "      <th></th>\n",
       "      <th></th>\n",
       "      <th></th>\n",
       "      <th></th>\n",
       "    </tr>\n",
       "  </thead>\n",
       "  <tbody>\n",
       "    <tr>\n",
       "      <th>1</th>\n",
       "      <td>41242.0</td>\n",
       "      <td>110.295572</td>\n",
       "      <td>48.659098</td>\n",
       "      <td>4.20</td>\n",
       "      <td>70.9200</td>\n",
       "      <td>112.995</td>\n",
       "      <td>152.1475</td>\n",
       "      <td>190.61</td>\n",
       "    </tr>\n",
       "    <tr>\n",
       "      <th>2</th>\n",
       "      <td>41242.0</td>\n",
       "      <td>275.220633</td>\n",
       "      <td>51.398186</td>\n",
       "      <td>190.62</td>\n",
       "      <td>230.2400</td>\n",
       "      <td>273.065</td>\n",
       "      <td>318.8375</td>\n",
       "      <td>369.66</td>\n",
       "    </tr>\n",
       "    <tr>\n",
       "      <th>3</th>\n",
       "      <td>41242.0</td>\n",
       "      <td>500.389543</td>\n",
       "      <td>83.501420</td>\n",
       "      <td>369.67</td>\n",
       "      <td>427.0350</td>\n",
       "      <td>493.020</td>\n",
       "      <td>570.0100</td>\n",
       "      <td>661.34</td>\n",
       "    </tr>\n",
       "    <tr>\n",
       "      <th>4</th>\n",
       "      <td>41241.0</td>\n",
       "      <td>936.290385</td>\n",
       "      <td>186.896581</td>\n",
       "      <td>661.35</td>\n",
       "      <td>772.4800</td>\n",
       "      <td>910.300</td>\n",
       "      <td>1085.7000</td>\n",
       "      <td>1322.77</td>\n",
       "    </tr>\n",
       "    <tr>\n",
       "      <th>5</th>\n",
       "      <td>41242.0</td>\n",
       "      <td>2738.068614</td>\n",
       "      <td>1666.370244</td>\n",
       "      <td>1322.83</td>\n",
       "      <td>1657.0425</td>\n",
       "      <td>2186.705</td>\n",
       "      <td>3207.8375</td>\n",
       "      <td>31723.67</td>\n",
       "    </tr>\n",
       "  </tbody>\n",
       "</table>\n",
       "</div>"
      ],
      "text/plain": [
       "     count         mean          std      min        25%       50%        75%  \\\n",
       "m                                                                               \n",
       "1  41242.0   110.295572    48.659098     4.20    70.9200   112.995   152.1475   \n",
       "2  41242.0   275.220633    51.398186   190.62   230.2400   273.065   318.8375   \n",
       "3  41242.0   500.389543    83.501420   369.67   427.0350   493.020   570.0100   \n",
       "4  41241.0   936.290385   186.896581   661.35   772.4800   910.300  1085.7000   \n",
       "5  41242.0  2738.068614  1666.370244  1322.83  1657.0425  2186.705  3207.8375   \n",
       "\n",
       "        max  \n",
       "m            \n",
       "1    190.61  \n",
       "2    369.66  \n",
       "3    661.34  \n",
       "4   1322.77  \n",
       "5  31723.67  "
      ]
     },
     "execution_count": 22,
     "metadata": {},
     "output_type": "execute_result"
    }
   ],
   "source": [
    "customers.groupby('m')['tot_spent'].describe()"
   ]
  },
  {
   "cell_type": "code",
   "execution_count": 23,
   "metadata": {},
   "outputs": [
    {
     "data": {
      "text/plain": [
       "335    26093\n",
       "111    21694\n",
       "112    17579\n",
       "113    12304\n",
       "224     9946\n",
       "212     9662\n",
       "211     9284\n",
       "213     7787\n",
       "334     7488\n",
       "223     6621\n",
       "311     6366\n",
       "235     6034\n",
       "312     5922\n",
       "114     5139\n",
       "324     4732\n",
       "313     4549\n",
       "225     4338\n",
       "234     4255\n",
       "124     3920\n",
       "214     3551\n",
       "323     3260\n",
       "222     3070\n",
       "123     3003\n",
       "333     2332\n",
       "314     2201\n",
       "325     1995\n",
       "122     1787\n",
       "322     1608\n",
       "221     1436\n",
       "125     1381\n",
       "233     1380\n",
       "121     1271\n",
       "332      865\n",
       "232      741\n",
       "321      730\n",
       "115      627\n",
       "215      400\n",
       "315      366\n",
       "331      229\n",
       "231      227\n",
       "134        9\n",
       "135        8\n",
       "132        8\n",
       "133        6\n",
       "131        5\n",
       "Name: CS1, dtype: int64"
      ]
     },
     "execution_count": 23,
     "metadata": {},
     "output_type": "execute_result"
    }
   ],
   "source": [
    "customers['CS1'].value_counts()"
   ]
  },
  {
   "cell_type": "code",
   "execution_count": 125,
   "metadata": {},
   "outputs": [
    {
     "data": {
      "image/png": "[encoded data removed]",
      "text/plain": [
       "<Figure size 1080x720 with 1 Axes>"
      ]
     },
     "metadata": {
      "needs_background": "light"
     },
     "output_type": "display_data"
    }
   ],
   "source": [
    "b1 = customers['CS1'].value_counts().plot(kind='bar',\n",
    "                                    figsize=(15,10),\n",
    "                                    title=\"Customer Segmentation\")\n",
    "b1.set_xlabel(\"Customer Segments\")\n",
    "b1.set_ylabel(\"Count\")\n",
    "plt.show()"
   ]
  }
 ],
 "metadata": {
  "kernelspec": {
   "display_name": "Python 3",
   "language": "python",
   "name": "python3"
  },
  "language_info": {
   "codemirror_mode": {
    "name": "ipython",
    "version": 3
   },
   "file_extension": ".py",
   "mimetype": "text/x-python",
   "name": "python",
   "nbconvert_exporter": "python",
   "pygments_lexer": "ipython3",
   "version": "3.7.1"
  }
 },
 "nbformat": 4,
 "nbformat_minor": 2
}
